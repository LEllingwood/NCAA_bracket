{
 "cells": [
  {
   "cell_type": "markdown",
   "metadata": {},
   "source": [
    "<img align=left width=200 src=\"https://www.multichannel.com/.image/t_share/MTU0MDYzOTAxNjEwMjIzMzU1/marchmadnesslogo-18_resizedjpg.jpg\" /><br clear=left>\n",
    "## Bracket Boss:  NCAA bracket picker\n",
    "### by Lea Ellingwood, Kenzie Academy Student Software Developer\n"
   ]
  },
  {
   "cell_type": "markdown",
   "metadata": {},
   "source": [
    "This method of bracket picking has been a verified winner -- not once, but TWICE.  You can't go wrong using this method because quite frankly, it's not even right!"
   ]
  },
  {
   "cell_type": "markdown",
   "metadata": {},
   "source": [
    "### Step 1: Start with csv data.\n",
    "The initial field of teams consists of XX teams.\n",
    "\n",
    "B. What does the raw data look like?\n",
    "\n",
    "A. Where did initial 68 come from?\n",
    "Andy Katz bracket predictions, hand coded by me into raw csv file format.  \"Complete list of 68 teams\"\n",
    "\n",
    "B. Where did initial 8 wildcard teams come from?\n",
    "First 4 games determine \"wildcard\" selection that feeds into the traditional field of 64 teams.  First 4 games are not technically part of the \"Tournament\""
   ]
  },
  {
   "cell_type": "code",
   "execution_count": 2,
   "metadata": {},
   "outputs": [],
   "source": [
    "# Insert csv file preview here"
   ]
  },
  {
   "cell_type": "markdown",
   "metadata": {},
   "source": [
    "### Step 2: Establish ranking algorithm\n",
    "There are three criteria for ranking:\n",
    "\n",
    "1. Mascot: Dogs and Cats (and their related species are weighted at 3.0.\n",
    "2. Team Colors: What makes a good or bad team color? weighted at 2.25.  \n",
    "3. Location, Location, Location (Is it a visitable vacation destination?) weighted at 1.0 \n",
    " - example: West Lafayette IN scores only 1.0 visitability.\n",
    " \n",
    "### Result is a simple weighted scoring system"
   ]
  },
  {
   "cell_type": "code",
   "execution_count": 1,
   "metadata": {},
   "outputs": [],
   "source": [
    "# Insert scoring code here"
   ]
  },
  {
   "cell_type": "markdown",
   "metadata": {},
   "source": [
    "### Step 3:\n",
    "Run the algorithm against the first 8 wildcard pairings, this will produce 4 wildcard seeds for the Tournament."
   ]
  },
  {
   "cell_type": "code",
   "execution_count": null,
   "metadata": {},
   "outputs": [],
   "source": []
  },
  {
   "cell_type": "markdown",
   "metadata": {},
   "source": []
  }
 ],
 "metadata": {
  "kernelspec": {
   "display_name": "Python 3",
   "language": "python",
   "name": "python3"
  },
  "language_info": {
   "codemirror_mode": {
    "name": "ipython",
    "version": 3
   },
   "file_extension": ".py",
   "mimetype": "text/x-python",
   "name": "python",
   "nbconvert_exporter": "python",
   "pygments_lexer": "ipython3",
   "version": "3.6.5"
  }
 },
 "nbformat": 4,
 "nbformat_minor": 2
}
